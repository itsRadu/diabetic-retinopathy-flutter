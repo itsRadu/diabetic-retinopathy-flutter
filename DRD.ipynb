{
 "cells": [
  {
   "cell_type": "code",
   "execution_count": 2,
   "metadata": {},
   "outputs": [
    {
     "name": "stdout",
     "output_type": "stream",
     "text": [
      "Training set: (2929, 224, 224, 3), (2929,)\n",
      "Testing set: (733, 224, 224, 3), (733,)\n"
     ]
    }
   ],
   "source": [
    "import os\n",
    "import cv2\n",
    "import numpy as np\n",
    "from sklearn.model_selection import train_test_split\n",
    "\n",
    "# Define the directory paths\n",
    "base_dir = 'colored_images'\n",
    "categories = ['No_DR', 'Mild', 'Moderate', 'Severe', 'Proliferate_DR']\n",
    "\n",
    "# Prepare lists to hold image data and labels\n",
    "data = []\n",
    "labels = []\n",
    "\n",
    "# Loop through each category folder\n",
    "for idx, category in enumerate(categories):\n",
    "    folder_path = os.path.join(base_dir, category)\n",
    "    for img_file in os.listdir(folder_path):\n",
    "        try:\n",
    "            # Read the image\n",
    "            img_path = os.path.join(folder_path, img_file)\n",
    "            image = cv2.imread(img_path)\n",
    "            # Resize the image to 224x224 pixels\n",
    "            image = cv2.resize(image, (224, 224))\n",
    "            # Append the image and its corresponding label to the lists\n",
    "            data.append(image)\n",
    "            labels.append(idx)  # Label is the index of the category\n",
    "        except Exception as e:\n",
    "            print(f\"Error loading image {img_path}: {e}\")\n",
    "\n",
    "# Convert lists to numpy arrays\n",
    "data = np.array(data) / 255.0  # Normalize pixel values\n",
    "labels = np.array(labels)\n",
    "\n",
    "# Split the dataset into training and testing sets\n",
    "X_train, X_test, y_train, y_test = train_test_split(data, labels, test_size=0.2, random_state=42)\n",
    "\n",
    "print(f\"Training set: {X_train.shape}, {y_train.shape}\")\n",
    "print(f\"Testing set: {X_test.shape}, {y_test.shape}\")\n"
   ]
  },
  {
   "cell_type": "code",
   "execution_count": null,
   "metadata": {},
   "outputs": [
    {
     "name": "stdout",
     "output_type": "stream",
     "text": [
      "Epoch 1/10\n"
     ]
    },
    {
     "ename": "",
     "evalue": "",
     "output_type": "error",
     "traceback": [
      "\u001b[1;31mThe Kernel crashed while executing code in the current cell or a previous cell. \n",
      "\u001b[1;31mPlease review the code in the cell(s) to identify a possible cause of the failure. \n",
      "\u001b[1;31mClick <a href='https://aka.ms/vscodeJupyterKernelCrash'>here</a> for more info. \n",
      "\u001b[1;31mView Jupyter <a href='command:jupyter.viewOutput'>log</a> for further details."
     ]
    }
   ],
   "source": [
    "import tensorflow as tf\n",
    "from tensorflow.keras.models import Sequential\n",
    "from tensorflow.keras.layers import Conv2D, MaxPooling2D, Flatten, Dense, Dropout\n",
    "\n",
    "# Define the CNN model\n",
    "model = Sequential([\n",
    "    Conv2D(32, (3, 3), activation='relu', input_shape=(224, 224, 3)),\n",
    "    MaxPooling2D(pool_size=(2, 2)),\n",
    "    Conv2D(64, (3, 3), activation='relu'),\n",
    "    MaxPooling2D(pool_size=(2, 2)),\n",
    "    Conv2D(128, (3, 3), activation='relu'),\n",
    "    MaxPooling2D(pool_size=(2, 2)),\n",
    "    Flatten(),\n",
    "    Dense(256, activation='relu'),\n",
    "    Dropout(0.5),\n",
    "    Dense(5, activation='softmax')  # 5 classes for different DR stages\n",
    "])\n",
    "\n",
    "# Compile the model\n",
    "model.compile(optimizer='adam', loss='sparse_categorical_crossentropy', metrics=['accuracy'])\n",
    "\n",
    "# Train the model\n",
    "history = model.fit(X_train, y_train, validation_data=(X_test, y_test), epochs=10, batch_size=32)\n",
    "\n",
    "# Save the model\n",
    "model.save('dr_model.h5')\n"
   ]
  },
  {
   "cell_type": "markdown",
   "metadata": {},
   "source": [
    "Epoch 1/10\n",
    "92/92 [==============================] - 47s 492ms/step - loss: 0.9247 - accuracy: 0.6743 - val_loss: 0.7825 - val_accuracy: 0.7271\n",
    "Epoch 2/10\n",
    "92/92 [==============================] - 43s 471ms/step - loss: 0.7998 - accuracy: 0.7091 - val_loss: 0.7687 - val_accuracy: 0.7162\n",
    "Epoch 3/10\n",
    "92/92 [==============================] - 43s 471ms/step - loss: 0.7843 - accuracy: 0.7197 - val_loss: 0.7377 - val_accuracy: 0.7367\n",
    "Epoch 4/10\n",
    "92/92 [==============================] - 44s 475ms/step - loss: 0.7648 - accuracy: 0.7272 - val_loss: 0.7327 - val_accuracy: 0.7271\n",
    "Epoch 5/10\n",
    "92/92 [==============================] - 44s 478ms/step - loss: 0.7499 - accuracy: 0.7289 - val_loss: 0.7316 - val_accuracy: 0.7285\n",
    "Epoch 6/10\n",
    "92/92 [==============================] - 43s 469ms/step - loss: 0.7326 - accuracy: 0.7303 - val_loss: 0.7411 - val_accuracy: 0.7271\n",
    "Epoch 7/10\n",
    "92/92 [==============================] - 43s 468ms/step - loss: 0.7102 - accuracy: 0.7470 - val_loss: 0.7314 - val_accuracy: 0.7203\n",
    "Epoch 8/10\n",
    "92/92 [==============================] - 43s 467ms/step - loss: 0.6699 - accuracy: 0.7559 - val_loss: 0.7004 - val_accuracy: 0.7422\n",
    "Epoch 9/10\n",
    "92/92 [==============================] - 43s 467ms/step - loss: 0.6446 - accuracy: 0.7675 - val_loss: 0.6768 - val_accuracy: 0.7531\n",
    "Epoch 10/10\n",
    "92/92 [==============================] - 43s 466ms/step - loss: 0.5839 - accuracy: 0.7798 - val_loss: 0.7274 - val_accuracy: 0.7353\n",
    "/usr/local/lib/python3.10/dist-packages/keras/src/engine/training.py:3103: UserWarning: You are saving your model as an HDF5 file via `model.save()`. This file format is considered legacy. We recommend using instead the native Keras format, e.g. `model.save('my_model.keras')`.\n",
    "  saving_api.save_model("
   ]
  },
  {
   "cell_type": "code",
   "execution_count": 1,
   "metadata": {},
   "outputs": [
    {
     "ename": "NameError",
     "evalue": "name 'model' is not defined",
     "output_type": "error",
     "traceback": [
      "\u001b[1;31m---------------------------------------------------------------------------\u001b[0m",
      "\u001b[1;31mNameError\u001b[0m                                 Traceback (most recent call last)",
      "Cell \u001b[1;32mIn[1], line 4\u001b[0m\n\u001b[0;32m      1\u001b[0m \u001b[38;5;28;01mimport\u001b[39;00m \u001b[38;5;21;01mtensorflow\u001b[39;00m \u001b[38;5;28;01mas\u001b[39;00m \u001b[38;5;21;01mtf\u001b[39;00m\n\u001b[0;32m      3\u001b[0m \u001b[38;5;66;03m# Convert the model to TensorFlow Lite format\u001b[39;00m\n\u001b[1;32m----> 4\u001b[0m converter \u001b[38;5;241m=\u001b[39m tf\u001b[38;5;241m.\u001b[39mlite\u001b[38;5;241m.\u001b[39mTFLiteConverter\u001b[38;5;241m.\u001b[39mfrom_keras_model(\u001b[43mmodel\u001b[49m)\n\u001b[0;32m      5\u001b[0m tflite_model \u001b[38;5;241m=\u001b[39m converter\u001b[38;5;241m.\u001b[39mconvert()\n\u001b[0;32m      7\u001b[0m \u001b[38;5;66;03m# Save the converted model\u001b[39;00m\n",
      "\u001b[1;31mNameError\u001b[0m: name 'model' is not defined"
     ]
    }
   ],
   "source": [
    "import tensorflow as tf\n",
    "\n",
    "# Convert the model to TensorFlow Lite format\n",
    "converter = tf.lite.TFLiteConverter.from_keras_model(model)\n",
    "tflite_model = converter.convert()\n",
    "\n",
    "# Save the converted model\n",
    "with open('dr_model.tflite', 'wb') as f:\n",
    "    f.write(tflite_model)\n"
   ]
  }
 ],
 "metadata": {
  "kernelspec": {
   "display_name": "Python 3",
   "language": "python",
   "name": "python3"
  },
  "language_info": {
   "codemirror_mode": {
    "name": "ipython",
    "version": 3
   },
   "file_extension": ".py",
   "mimetype": "text/x-python",
   "name": "python",
   "nbconvert_exporter": "python",
   "pygments_lexer": "ipython3",
   "version": "3.9.13"
  }
 },
 "nbformat": 4,
 "nbformat_minor": 2
}
